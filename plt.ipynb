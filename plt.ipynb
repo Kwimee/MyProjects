import numpy as np
import matplotlib.pyplot as plt

fig, axes = plt.subplots(2, 1, tight_layout=True, figsize=(5,6))

minx1 = np.array([0, 3, 6, 9, 12, 15, 18, 21, 24,  27, 30,  33, 36])
miny1 = np.array([45, 55.8, 61.1, 65.2, 68.7,  71.8,  74.6,   77.1,   79.5,   81.8, 84,  85.9,  87.1])

x1 = np.array([0, 3, 6, 9, 12, 15, 18, 21, 24,  27, 30,  33, 36])
y1 = np.array([49.2, 60.4, 66.1, 70.5, 74,  77.5,  80.7,   83.7,   86.2,   88.7, 91.1,   93.1,  94.2])

maxx1 = np.array([0, 3, 6, 9, 12, 15, 18, 21, 24,  27, 30,  33, 36])
maxy1 = np.array([54.4, 65.1, 70.9, 75.7, 82,  85.5, 88.7,   91.6,   94.3,    97,    99.4,    101.7,   103.1])

ax1 = np.array([0, 3, 6, 9, 12, 15, 18, 21, 24,27])
ay1 = np.array([49.2, 60.4, 66.1, 70.5, 74,  77.5,  80.7,   83.7, 85,87.6])

minx2 = np.array([0, 3, 6, 9, 12, 15, 18, 21, 24,  27, 30,  33, 36])
miny2 = np.array([2.4, 4.5, 5.9, 7, 7.9, 8.6, 9.1, 9.6, 10, 10.4, 10.7, 11, 11.3])

x2 = np.array([0, 3, 6, 9, 12, 15, 18, 21, 24,  27, 30,  33, 36])
y2 = np.array([3.5, 6.3, 8.1, 9.4, 10.4, 11.2, 11.8, 12.3, 12.7, 13.1, 13.5, 13.9, 14.3])

maxx2 = np.array([0, 3, 6, 9, 12, 15, 18, 21, 24,  27, 30,  33, 36])
maxy2 = np.array([4.4, 7.9, 10.1, 11.7, 12.9, 13.8, 14.5, 15.1, 15.6, 16.2, 16.8, 17.4, 17.9])

ax2 = np.array([0, 3, 6, 9, 12, 15, 18, 21, 24, 27])
ay2 = np.array([3.5, 6.3, 8.1, 9.4, 10.4, 12.8, 13.5, 14.1, 14.6, 15])

axes[0].plot(maxx1, maxy1, color = 'pink', label = '97th')
axes[0].plot(x1, y1,  color = 'pink', label = '50th')
axes[0].plot(minx1, miny1, color = 'pink', label = '3th')
axes[0].plot(ax1, ay1, color = 'deeppink', label = 'Amalie')
axes[1].plot(maxx2, maxy2, color = 'pink', label = '97th')
axes[1].plot(x2, y2, color = 'pink', label = '50th')
axes[1].plot(minx2, miny2, color = 'pink', label = '3th')
axes[1].plot(ax2, ay2, color = 'deeppink', label = 'Amalie')

axes[0].set_xlim(0,36)
axes[0].set_ylim(40,105)
axes[1].set_xlim(0,36)
axes[1].set_ylim(2,18)

axes[0].set_ylabel('cm')
axes[1].set_xlabel('Month')
axes[1].set_ylabel('kg')

axes[0].set_title("Length")
axes[1].set_title("Weight")

axes[0].legend(loc = 'lower right')
axes[1].legend(loc = 'lower right')

fig.suptitle("Amalie's Growth Chart", size=15)

plt.show()
